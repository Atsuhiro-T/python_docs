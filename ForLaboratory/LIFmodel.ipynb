{
 "cells": [
  {
   "cell_type": "markdown",
   "metadata": {},
   "source": [
    "## LIF(leaky-integrate-and-fire)モデルとは？"
   ]
  },
  {
   "attachments": {},
   "cell_type": "markdown",
   "metadata": {},
   "source": [
    "細胞膜を以下のようなRC並列回路として捉える。\n",
    "![](rapture_20200119183900.jpg)\n",
    "\n",
    "この回路によるイオンの流出過程は以下の微分方程式で計算することができる。\n",
    "\n",
    "\\begin{equation}\n",
    "\\tau_m {\\mathrm{d} V \\over \\mathrm{d}t} = -V(t) + RI(t)\n",
    "\\end{equation}\n",
    "\\begin{equation}\n",
    "\\tau_m = RC\n",
    "\\end{equation}\n",
    "\n",
    "ただし、電圧値がある時間$t$で一定値$V_{\\theta}$を超えると「発火」として$V(t)=V_{max}$となり、次の時刻$t+1$では最低値$V(t+1)=V_{min}$に戻る。\n",
    "\n",
    "今回は$\\tau_m=30\\mathrm{ms}, R=1\\Omega, I(t)=1\\mathrm{A}, V_{min}=0\\mathrm{mV}, V_{max}=30\\mathrm{mV}$とする。"
   ]
  },
  {
   "cell_type": "markdown",
   "metadata": {},
   "source": [
    "微分方程式を解くために、ルンゲクッタ法というアルゴリズムを使用する。\n",
    "\n",
    "$$y(t_0)=y_0$$\n",
    "\n",
    "$$y'=f(y)$$\n",
    "\n",
    "ここで時間$t_n$における$y_n$から時間$t_n+dt$における$y_{n+1}$を以下のように計算することができる。\n",
    "\n",
    "$$ y_{n+1}=y_n+{(k_1+2k_2+2k_3+k_4)\\over6}$$\n",
    "\n",
    "$$ k_1=f(y_n) $$\n",
    "$$ k_2=f(y_n+{dt\\over2}k_1) $$\n",
    "$$ k_3=f(y_n+{dt\\over2}k_2) $$\n",
    "$$ k_4=f(y_n+dt k_3) $$\n",
    "\n",
    "\n",
    "この計算を以下の関数にまとめる。"
   ]
  },
  {
   "cell_type": "code",
   "execution_count": 1,
   "metadata": {},
   "outputs": [],
   "source": [
    "def runge(dt, func, x):\n",
    "    k1 = dt * func(x)\n",
    "    k2 = dt * func(x + k1 / 2)\n",
    "    k3 = dt * func(x + k2 / 2)\n",
    "    k4 = dt * func(x + k3)\n",
    "    x += (k1 + 2 * k2 + 2 * k3 + k4) / 6\n",
    "    return x"
   ]
  },
  {
   "cell_type": "markdown",
   "metadata": {},
   "source": [
    "計算してみる。"
   ]
  },
  {
   "cell_type": "code",
   "execution_count": 16,
   "metadata": {},
   "outputs": [
    {
     "data": {
      "text/plain": [
       "[<matplotlib.lines.Line2D at 0x21d48068208>]"
      ]
     },
     "execution_count": 16,
     "metadata": {},
     "output_type": "execute_result"
    },
    {
     "data": {
      "image/png": "[encoded data removed]",
      "text/plain": [
       "<Figure size 432x288 with 1 Axes>"
      ]
     },
     "metadata": {
      "needs_background": "light"
     },
     "output_type": "display_data"
    }
   ],
   "source": [
    "import numpy as np\n",
    "import matplotlib.pyplot as plt\n",
    "\n",
    "tau = 30\n",
    "V0 = 0\n",
    "V_min = 0\n",
    "V_max = 30\n",
    "dt = 0.01\n",
    "\n",
    "def f(V):\n",
    "    return (-V+15)/tau\n",
    "\n",
    "def runge(dt, func, x):\n",
    "    k1 = dt * func(x)\n",
    "    k2 = dt * func(x + k1 / 2)\n",
    "    k3 = dt * func(x + k2 / 2)\n",
    "    k4 = dt * func(x + k3)\n",
    "    x += (k1 + 2 * k2 + 2 * k3 + k4) / 6\n",
    "    return x\n",
    "\n",
    "x = np.arange(0, 300, 0.01)\n",
    "y = np.array([])\n",
    "\n",
    "V = V0\n",
    "\n",
    "for x_ in x:\n",
    "    V = runge(dt, f, V)\n",
    "    if V > 20:\n",
    "        V = 0\n",
    "    elif V > 10:\n",
    "        V = 30\n",
    "    y = np.append(y, V)\n",
    "\n",
    "plt.plot(x, y)"
   ]
  }
 ],
 "metadata": {
  "kernelspec": {
   "display_name": "Python 3",
   "language": "python",
   "name": "python3"
  },
  "language_info": {
   "codemirror_mode": {
    "name": "ipython",
    "version": 3
   },
   "file_extension": ".py",
   "mimetype": "text/x-python",
   "name": "python",
   "nbconvert_exporter": "python",
   "pygments_lexer": "ipython3",
   "version": "3.7.7"
  }
 },
 "nbformat": 4,
 "nbformat_minor": 4
}
